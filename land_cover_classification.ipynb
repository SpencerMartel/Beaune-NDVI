{
 "cells": [
  {
   "attachments": {},
   "cell_type": "markdown",
   "metadata": {},
   "source": [
    "# Investigating Crop Quality in Beaune, France with Remote Sensing instruments for the 2022 vintage.\n",
    "\n",
    "The goal of this project is to investigate the tools freely available to the public in monitoring the health of *Vitis Vinifera* grapes in the vineyard. This study will focus on the Burgundy region as it produces some of my favorite wines using Pinot Noir.\n",
    "\n",
    "Here I investigate Landsat 9 imagery by interfacing with [Google Earth Engine](https://earthengine.google.com/).\n",
    "I will calculate NDVI and a handful of other vegitation indexes to see which are useful and compare the freely available products to private options which may be better suited.\n",
    "\n",
    "Particular inspiration for this analysis came from [this study](https://www.frontiersin.org/articles/10.3389/fpls.2021.683078/full) conducted on a vineyard in Greece which concluded that *\"both satellite-based and proximal-based NDVI at both stages (veraison and harvest) presented good correlations to crop quality characteristics ...\"*. While this seems promising to my preliminary research it should be noted that the proximal based (in this study's case, drones within the vineyards) remote sensing applications were preffered to the remote sensing based (in this case Sentinel-2 archived imagery) instruments.\n",
    "There are private companies like [VineView](https://vineview.com/data-products/vine-vigor-products/) and [VineScapes](https://www.vinescapes.com/read-our-published-work/) already using remote sensing techniques to offer insight into vineyard management.\n",
    "\n",
    "### The Project's Main Components\n",
    "\n",
    "1. Visualization of NDVI using Landsat and Sentinel imagery.\n",
    "2. Analysis of correlation between the region's NDVI and wine rating."
   ]
  },
  {
   "attachments": {},
   "cell_type": "markdown",
   "metadata": {},
   "source": [
    "\n",
    "## Visualization\n",
    "#### The workflow\n",
    "\n",
    "1.      Retreive the Landsat-9 Image Collection from Google Earth Engine.\n",
    "2.      Filter the geographic bounds to our study area around Beaune.\n",
    "3.      Sort the Image Collection by cloud cover.\n",
    "4.      Select the first element of the collection (image with least clouds within our timeframe).\n",
    "5.      Clip resulting image to study area.\n",
    "\n"
   ]
  },
  {
   "cell_type": "code",
   "execution_count": 1,
   "metadata": {},
   "outputs": [],
   "source": [
    "# Uncomment these if you do not have the dependencies installed\n",
    "\n",
    "# !pip install ee\n",
    "# !pip install geemap\n",
    "\n",
    "import ee\n",
    "import geemap\n",
    "\n",
    "# Get our geemaps map set up\n",
    "burgundy_map = geemap.Map(center = ( 47.02882844813948, 4.948176654205355), zoom = 11, layer_ctrl = True, data_ctrl = False, add_google_map = False)"
   ]
  },
  {
   "attachments": {},
   "cell_type": "markdown",
   "metadata": {},
   "source": [
    "Let's grab our data. We'll start with Landsat-9 and move on to Sentinel-2"
   ]
  },
  {
   "cell_type": "code",
   "execution_count": 2,
   "metadata": {},
   "outputs": [],
   "source": [
    "clip_area = ee.Geometry.Polygon([[[4.647364477,46.9062950917],[5.1135967769,46.9062950917],[5.1135967769,47.1193160686],[4.647364477,47.1193160686],[4.647364477,46.9062950917]]])\n",
    "study_area = ee.Geometry.Point([4.744932, 47.040085])\n",
    "study_date = ('2022-08-01', '2022-12-30')\n",
    "\n",
    "\n",
    "# Get Landsat 9 imagery\n",
    "image_2022 = ee.ImageCollection(\"LANDSAT/LC09/C02/T1_L2\").filterDate(study_date[0], study_date[1]).filterBounds(study_area).sort('CLOUD_COVER').first().clip(clip_area)"
   ]
  },
  {
   "attachments": {},
   "cell_type": "markdown",
   "metadata": {},
   "source": [
    "Let's investigate our photo's metadata to see what we've got after all that filtering and clipping."
   ]
  },
  {
   "cell_type": "code",
   "execution_count": 17,
   "metadata": {},
   "outputs": [
    {
     "name": "stdout",
     "output_type": "stream",
     "text": [
      "The clearest Landsat-9 photo during the 2022 harvest season for our region was taken on \u001b[1m2022-08-07\u001b[0m with a cloud cover of \u001b[1m0.02%\u001b[0m\n"
     ]
    }
   ],
   "source": [
    "props = geemap.image_props(image_2022)\n",
    "landsat_date = props.get(\"IMAGE_DATE\").getInfo()\n",
    "landsat_cloud = (props.get(\"CLOUD_COVER_LAND\").getInfo())\n",
    "\n",
    "print(f'The clearest Landsat-9 photo during the 2022 harvest season for our region was taken on \\033[1m{landsat_date}\\033[0m with a cloud cover of \\033[1m{landsat_cloud}%\\033[0m')"
   ]
  },
  {
   "attachments": {},
   "cell_type": "markdown",
   "metadata": {},
   "source": [
    "August 7th, 2022 should work out well for our analysis since the 2022 harvest in Burgundy began around [August 31st](https://www.burgundy-report.com/category/harvests/vintage-2022/). So we will get a look at the vines just a couple weeks before harvest! And on a day with very low cloud coverage!\n",
    "\n",
    "The weeks prior to harvest are some of the most stressful for a winemaker. Too little or too much of rain, humidity, sunlight, or soil nutrients can dramatically impact the final quality of the wine by veering the grape from the desired PH and sugar levels. While this may not be a problem for more \"modern\" regions, Burgundy maintains that the role of the vintner in the final product should be minimal and it is their job to simply see through what the terroir has given them.<br>This approach to minimal intervention winemaking makes for more terroir driven wines but leaves the product at the mercy of nature.\n",
    "\n",
    "Having a snapshot into these stressful times should be incredibly interesting!"
   ]
  },
  {
   "attachments": {},
   "cell_type": "markdown",
   "metadata": {},
   "source": [
    "### Landsat 9 Data Scaling\n",
    "\n",
    "All Landsat data needs to be rescaled before any analysis or visualization can occus, you can read more on the topic [here](https://developers.google.com/earth-engine/datasets/catalog/LANDSAT_LC09_C02_T1_L2#bands)."
   ]
  },
  {
   "cell_type": "code",
   "execution_count": 4,
   "metadata": {},
   "outputs": [],
   "source": [
    "def applyScaleFactors(image: ee.Image) -> ee.Image:\n",
    "    opticalBands = image.select('SR_B.').multiply(0.0000275).add(-0.2)\n",
    "    thermalBands = image.select('ST_B.*').multiply(0.00341802).add(149.0)\n",
    "    return image.addBands(opticalBands, None, True).addBands(thermalBands, None, True)\n",
    "\n",
    "# landsat_9_data_2022 = applyScaleFactors(landsat_9_image_2022)\n",
    "landsat_8_data_2022 = applyScaleFactors(image_2022)"
   ]
  },
  {
   "attachments": {},
   "cell_type": "markdown",
   "metadata": {},
   "source": [
    "Let's save the Landsat visualization parameters for our different layers in dicts so we can visualize them more programatically."
   ]
  },
  {
   "cell_type": "code",
   "execution_count": 5,
   "metadata": {},
   "outputs": [],
   "source": [
    "landsat_nat = {\n",
    "    'name': 'Natural Color (4,3,2)',\n",
    "    'properties': {\n",
    "        'bands': ['SR_B4', 'SR_B3', 'SR_B2'],\n",
    "        'min': 0.0,\n",
    "        'max': 0.3,\n",
    "    }\n",
    "}\n",
    "\n",
    "landsat_IR = {\n",
    "    'name': 'False Color (5,4,3)',\n",
    "    'properties': {\n",
    "        'bands': ['SR_B5', 'SR_B4', 'SR_B3'],\n",
    "        'min': 0.0,\n",
    "        'max': 0.5\n",
    "    }\n",
    "}\n",
    "\n",
    "landsat_veg = {\n",
    "    'name': 'Vegatation Visualization (6,5,4)',\n",
    "    'properties': {\n",
    "        'bands': ['SR_B6', 'SR_B5', 'SR_B4'],\n",
    "        'min': 0.0,\n",
    "        'max': 0.7\n",
    "    }\n",
    "}\n",
    "\n",
    "vis_ndvi = {\n",
    "    'name': 'NDVI',\n",
    "    'properties': {\n",
    "        'min': -0.2,\n",
    "        'max': 1.0,\n",
    "        'palette': [\n",
    "            'FFFFFF',\n",
    "            'CE7E45',\n",
    "            'DF923D',\n",
    "            'F1B555',\n",
    "            'FCD163',\n",
    "            '99B718',\n",
    "            '74A901',\n",
    "            '66A000',\n",
    "            '529400',\n",
    "            '3E8601',\n",
    "            '207401',\n",
    "            '056201',\n",
    "            '004C00',\n",
    "            '023B01',\n",
    "            '012E01',\n",
    "            '011D01',\n",
    "            '011301',\n",
    "        ]\n",
    "    }\n",
    "}\n"
   ]
  },
  {
   "attachments": {},
   "cell_type": "markdown",
   "metadata": {},
   "source": [
    "### Initial Visualization \n",
    "\n",
    "Alright that was a lot.\n",
    "\n",
    "Let's put that all on a map so we can see what we've been doing so far.<br>We'll put a natural color and an infrared layer to more easily visualize the greenery of the region. We'll call on our previously assigned visualization parameters to tell geemap how to draw the layers.\n",
    "\n",
    "Feel free to play around with the layers using the tool on the right hand side of the map."
   ]
  },
  {
   "cell_type": "code",
   "execution_count": 6,
   "metadata": {},
   "outputs": [
    {
     "data": {
      "application/vnd.jupyter.widget-view+json": {
       "model_id": "3ca50a91fb3d423f8eff4cb7b832daa7",
       "version_major": 2,
       "version_minor": 0
      },
      "text/plain": [
       "Map(center=[47.02882844813948, 4.948176654205355], controls=(ZoomControl(options=['position', 'zoom_in_text', …"
      ]
     },
     "metadata": {},
     "output_type": "display_data"
    }
   ],
   "source": [
    "burgundy_map.add_ee_layer(\n",
    "    ee_object = landsat_8_data_2022,\n",
    "    vis_params = landsat_IR['properties'],\n",
    "    name = f'2022 {landsat_IR[\"name\"]}'\n",
    ")\n",
    "burgundy_map.add_ee_layer(\n",
    "    ee_object = landsat_8_data_2022,\n",
    "    vis_params = landsat_nat['properties'],\n",
    "    name = f'2022 {landsat_nat[\"name\"]}'\n",
    ")\n",
    "\n",
    "burgundy_map"
   ]
  },
  {
   "attachments": {},
   "cell_type": "markdown",
   "metadata": {},
   "source": [
    "### That looks pretty good!\n",
    "\n",
    "With Landsat 9's 30m resolution we can clearly see the city of Beaune with the sprawling vineyards and forests to the east.\n",
    "This will be the first harvest that Landsat 9 imagery can be used for analysis since its launch on September 27 2021.\n",
    "\n",
    "In our false color layer, we can see the large red patch to the right of the image is the [Forêt domaniale de Citeaux](https://www.onf.fr/vivre-la-foret/forets-de-france/%2B/19b6::foret-domaniale-de-citeaux.html?lang=fr) which is an oak forest producing staves for many of the oak barrels used for aging wines throughout the region. This is why you can see the plot like structure of the forest in both of our layers. Interestingly, only in the false color composite you can distinguish which plots are more mature, and likely to be harvested next whereas in the natural color you can only distinguish larger segmentation of the forest.<br>Try flicking between the layers to see! A fun example of the practicality of remote sensing.\n",
    "\n",
    "If you need spatial reference, you can unselect all our added layers to see an Open Street Map base layer."
   ]
  },
  {
   "attachments": {},
   "cell_type": "markdown",
   "metadata": {},
   "source": [
    "### NDVI Calculation & Visualization\n",
    "\n",
    "Ndvi has [long been used](https://spinoff.nasa.gov/spinoff2003/er_2.html) in vineyards to generalize vine health.\n",
    "\n",
    "Farmers use it to monitor crops and decide when is the optimal time to pick the fruit.\n",
    "\n",
    "The calculation for NDVI is fairly straight forward and involves finding the difference between the near-infrared and red bands of our image.\n",
    "$$\n",
    "    NDVI = \\frac{(NIR - Red)}{(NIR + Red)}\\\n",
    "$$\n",
    "\n",
    "Let's calculate the NDVI of our Landsat-9 image using the appropriate bands."
   ]
  },
  {
   "cell_type": "code",
   "execution_count": 7,
   "metadata": {},
   "outputs": [],
   "source": [
    "landsat_NIR = image_2022.select('SR_B5')\n",
    "landsat_red = image_2022.select('SR_B4')\n",
    "\n",
    "# This is the line that computes NDVI\n",
    "landsat_ndvi = landsat_NIR.subtract(landsat_red).divide(landsat_NIR.add(landsat_red)).rename('NDVI')"
   ]
  },
  {
   "attachments": {},
   "cell_type": "markdown",
   "metadata": {},
   "source": [
    "Let's visualize our NDVI layer.<br>All previous layers are still available to play around with."
   ]
  },
  {
   "cell_type": "code",
   "execution_count": 8,
   "metadata": {},
   "outputs": [
    {
     "data": {
      "application/vnd.jupyter.widget-view+json": {
       "model_id": "3ca50a91fb3d423f8eff4cb7b832daa7",
       "version_major": 2,
       "version_minor": 0
      },
      "text/plain": [
       "Map(center=[47.02882844813948, 4.948176654205355], controls=(ZoomControl(options=['position', 'zoom_in_text', …"
      ]
     },
     "metadata": {},
     "output_type": "display_data"
    }
   ],
   "source": [
    "burgundy_map.add_ee_layer(\n",
    "    ee_object = landsat_ndvi,\n",
    "    name = vis_ndvi['name'],\n",
    "    vis_params = vis_ndvi['properties']\n",
    ")\n",
    "burgundy_map"
   ]
  },
  {
   "attachments": {},
   "cell_type": "markdown",
   "metadata": {},
   "source": [
    "Awesome, we've got our NDVI, and visualization layers overlapping to get a better understanding of the region of Beaune at harvest time."
   ]
  },
  {
   "attachments": {},
   "cell_type": "markdown",
   "metadata": {},
   "source": [
    "### What about Sentinel Imagery?\n",
    "\n",
    "That's all very interesting and the Landsat project is awesome however, [this study](https://www.mdpi.com/2077-0472/11/5/457#) found that *\"In medium-resolution imagery, Sentinel-2 excels in use over others, due to the ability to reveal spatial variability that can be used on a regional scale.\"*.<br>\n",
    "So let's see what the same NDVI calculation will give us with Sentinel-2 data.<br>\n",
    "I will repeat much of the same workflow as for the Landsat image."
   ]
  },
  {
   "cell_type": "code",
   "execution_count": 9,
   "metadata": {},
   "outputs": [],
   "source": [
    "sentinel_2022 = ee.ImageCollection(\"COPERNICUS/S2_SR_HARMONIZED\")\\\n",
    "    .filterDate(study_date[0], study_date[1])\\\n",
    "    .filterBounds(study_area)\\\n",
    "    .sort('HIGH_PROBA_CLOUDS_PERCENTAGE')\\\n",
    "    .first()\\\n",
    "    .clip(clip_area)\n",
    "\n",
    "# Have to divide sentinel bands by 10000, similar to Landsat scalling.\n",
    "# Note this is only for bands 1-12 and breaks all others but that is all we will use for this so a blanket divide works fine.\n",
    "sentinel_2022_data = sentinel_2022.divide(10000)"
   ]
  },
  {
   "attachments": {},
   "cell_type": "markdown",
   "metadata": {},
   "source": [
    "Again let's see what the best photo of the same 2022 harvest period was to come out of the Copernicus Sentinel-2 mission."
   ]
  },
  {
   "cell_type": "code",
   "execution_count": 20,
   "metadata": {},
   "outputs": [
    {
     "name": "stdout",
     "output_type": "stream",
     "text": [
      "The clearest Sentinel photo during the 2022 harvest season for our region was taken on \u001b[1m2022-08-10\u001b[0m with a cloud cover of \u001b[1m0.0%\u001b[0m\n"
     ]
    }
   ],
   "source": [
    "props2 = geemap.image_props(sentinel_2022)\n",
    "sentinel_date = props2.get(\"IMAGE_DATE\").getInfo()\n",
    "sentinel_cloud = round(props2.get(\"CLOUDY_PIXEL_PERCENTAGE\").getInfo(), 2)\n",
    "\n",
    "print(f'The clearest Sentinel photo during the 2022 harvest season for our region was taken on \\033[1m{sentinel_date}\\033[0m with a cloud cover of \\033[1m{sentinel_cloud}%\\033[0m')"
   ]
  },
  {
   "attachments": {},
   "cell_type": "markdown",
   "metadata": {},
   "source": [
    "Wow, the best Sentinel photo for the study time period was just 3 days after our Landsat one with no clouds!<br>\n",
    "\n",
    "Let's visualize it.\n",
    "\n",
    "Sentinel uses different band combinations and different syntax for the name of their bands, so we'll create new visualization parameters."
   ]
  },
  {
   "cell_type": "code",
   "execution_count": 11,
   "metadata": {},
   "outputs": [],
   "source": [
    "sentinel_nat = {\n",
    "    'name': 'Natural Color (4,3,2)',\n",
    "    'properties': {\n",
    "        'bands': ['B4', 'B3', 'B2'],\n",
    "        'min': 0.0,\n",
    "        'max': 0.3,\n",
    "    }\n",
    "}\n",
    "\n",
    "sentinel_IR = {\n",
    "    'name': 'False Color (8,4,3)',\n",
    "    'properties': {\n",
    "        'bands': ['B8', 'B4', 'B3'],\n",
    "        'min': 0.0,\n",
    "        'max': 0.5,\n",
    "    }\n",
    "}\n"
   ]
  },
  {
   "cell_type": "code",
   "execution_count": 12,
   "metadata": {},
   "outputs": [
    {
     "data": {
      "application/vnd.jupyter.widget-view+json": {
       "model_id": "ea94ef379fa247b2860aff6eea53ee13",
       "version_major": 2,
       "version_minor": 0
      },
      "text/plain": [
       "Map(center=[47.02882844813948, 4.948176654205355], controls=(ZoomControl(options=['position', 'zoom_in_text', …"
      ]
     },
     "metadata": {},
     "output_type": "display_data"
    }
   ],
   "source": [
    "sentinel_map = geemap.Map(center = ( 47.02882844813948, 4.948176654205355), zoom = 11, layer_ctrl = True, data_ctrl = False, add_google_map = False)\n",
    "\n",
    "sentinel_map.add_ee_layer(\n",
    "    ee_object = sentinel_2022_data,\n",
    "    vis_params = sentinel_nat['properties'],\n",
    "    name = sentinel_nat['name'],\n",
    ")\n",
    "\n",
    "sentinel_map.add_ee_layer(\n",
    "    ee_object = sentinel_2022_data,\n",
    "    vis_params = sentinel_IR['properties'],\n",
    "    name = sentinel_IR['name']\n",
    ")\n",
    "\n",
    "sentinel_map"
   ]
  },
  {
   "attachments": {},
   "cell_type": "markdown",
   "metadata": {},
   "source": [
    "I mean that is awesome isn't it?! Sentinel-2 offers 10m resolution on the bands we used for visualizing our layers and while it is not going to get us into individual rows of vines it sure looks great.\n",
    "\n",
    "Now let's do that NDVI calculation again being careful to select the correct Sentinel-2 bands for the job."
   ]
  },
  {
   "cell_type": "code",
   "execution_count": 13,
   "metadata": {},
   "outputs": [],
   "source": [
    "sentinel_NIR = sentinel_2022_data.select('B8')\n",
    "sentinel_red = sentinel_2022_data.select('B4')\n",
    "\n",
    "sentinel_ndvi = sentinel_NIR.subtract(sentinel_red).divide(sentinel_NIR.add(sentinel_red)).rename('NDVI')"
   ]
  },
  {
   "attachments": {},
   "cell_type": "markdown",
   "metadata": {},
   "source": [
    "### Let's get a side by side of our NDVI's using both satellites.\n",
    "\n",
    "While this split function doesn't work fully as intended and is a [known bug](https://github.com/gee-community/geemap/issues/1483), dragging the map around still has the intended effect and is visually striking so we'll use it regardless.\n",
    "\n",
    "Remember we are using the same visualization parameters for both images "
   ]
  },
  {
   "cell_type": "code",
   "execution_count": 21,
   "metadata": {},
   "outputs": [
    {
     "data": {
      "application/vnd.jupyter.widget-view+json": {
       "model_id": "93fa79ec1ec14d219cc0358825a516a8",
       "version_major": 2,
       "version_minor": 0
      },
      "text/plain": [
       "Map(center=[47.02882844813948, 4.948176654205355], controls=(ZoomControl(options=['position', 'zoom_in_text', …"
      ]
     },
     "metadata": {},
     "output_type": "display_data"
    }
   ],
   "source": [
    "landsat_layer = geemap.ee_tile_layer(\n",
    "    landsat_ndvi, vis_params=vis_ndvi['properties'], name='Landsat NDVI')\n",
    "sentinel_layer = geemap.ee_tile_layer(\n",
    "    sentinel_ndvi, vis_params=vis_ndvi['properties'], name='Sentinel NDVI')\n",
    "\n",
    "\n",
    "split = geemap.Map(center=(47.02882844813948, 4.948176654205355),\n",
    "                   zoom=11, layer_ctrl=True, data_ctrl=False, add_google_map=False)\n",
    "split.split_map(left_layer = landsat_layer,\n",
    "                right_layer = sentinel_layer,\n",
    "                left_label = f\"Landsat 9 NDVI {landsat_date}\",\n",
    "                right_label = f\"Sentinel-2 NDVI {sentinel_cloud}\",)\n",
    "split\n"
   ]
  },
  {
   "attachments": {},
   "cell_type": "markdown",
   "metadata": {},
   "source": [
    "My next curiosity is to see how the NDVI changes year over year. Vintages in the wine world are the year in which the wine was grown and are incredibly deterministic to the wine's quality thanks to the notion of [terroir](https://winefolly.com/tips/terroir-definition-for-wine/)."
   ]
  },
  {
   "cell_type": "code",
   "execution_count": 15,
   "metadata": {},
   "outputs": [],
   "source": [
    "# Calculate  zonal statistics\n",
    "# geemap.zonal_statistics_by_group(\n",
    "#     in_value_raster = ndvi_2015,\n",
    "#     in_zone_vector = burgundy_arrondisement,\n",
    "#     statistics_type='PERCENTAGE',\n",
    "# )"
   ]
  }
 ],
 "metadata": {
  "kernelspec": {
   "display_name": "base",
   "language": "python",
   "name": "python3"
  },
  "language_info": {
   "codemirror_mode": {
    "name": "ipython",
    "version": 3
   },
   "file_extension": ".py",
   "mimetype": "text/x-python",
   "name": "python",
   "nbconvert_exporter": "python",
   "pygments_lexer": "ipython3",
   "version": "3.9.13"
  },
  "orig_nbformat": 4
 },
 "nbformat": 4,
 "nbformat_minor": 2
}
