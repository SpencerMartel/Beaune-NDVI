{
 "cells": [
  {
   "attachments": {},
   "cell_type": "markdown",
   "metadata": {},
   "source": [
    "# Investigating Crop Quality in Beaune, France with Remote Sensing instruments\n",
    "---\n",
    "\n",
    "The goal of this project is to investigate the tools freely available to the public in monitoring the health of *Vitis Vinifera* grapes in the vineyard. This study will focus on the Burgundy region as it produces some of my favorite wines using Pinot Noir.\n",
    "\n",
    "Here I investigate Landsat 9 imagery by interfacing with [Google Earth Engine](https://earthengine.google.com/).\n",
    "I will calculate NDVI and a handful of other vegitation indexes to see which are useful and compare the freely available products to private options which may be better suited.\n",
    "\n",
    "Particular inspiration for this analysis came from [this study](https://www.frontiersin.org/articles/10.3389/fpls.2021.683078/full) conducted on a vineyard in Greece which concluded that *\"both satellite-based and proximal-based NDVI at both stages (veraison and harvest) presented good correlations to crop quality characteristics ...\"*. While this seems promising to my preliminary research it should be noted that the proximal based (in this study's case, drones within the vineyards) remote sensing applications were preffered to the remote sensing based (in this case Sentinel-2 archived imagery) instruments though I only have access to the remote sensing instruments and it is what I wish to investigate in this project.\n",
    "There are private companies like [VineView](https://vineview.com/data-products/vine-vigor-products/) and [VineScapes](https://www.vinescapes.com/read-our-published-work/) already using remote sensing techniques to offer insight into vineyard management.\n",
    "\n",
    "### The Project's Main Components\n",
    "\n",
    "1. Visualization of NDVI using Landsat and Sentinel imagery.\n",
    "2. Brief analysis of correlation between the region's NDVI and wine rating."
   ]
  },
  {
   "attachments": {},
   "cell_type": "markdown",
   "metadata": {},
   "source": [
    "\n",
    "## Visualization\n",
    "#### The workflow\n",
    "\n",
    "1.      Retrieve the Landsat-9 Image Collection from Google Earth Engine.\n",
    "2.      Filter the geographic bounds to our study area around Beaune.\n",
    "3.      Sort the Image Collection by cloud cover.\n",
    "4.      Select the first element of the collection (image with least clouds within our timeframe).\n",
    "5.      Clip resulting image to study area.\n",
    "\n"
   ]
  },
  {
   "cell_type": "code",
   "execution_count": 1,
   "metadata": {},
   "outputs": [],
   "source": [
    "# Uncomment if dependencies are required\n",
    "# !pip install ee\n",
    "# !pip install geemap\n",
    "# !pip install pandas\n",
    "\n",
    "import ee\n",
    "import geemap\n",
    "import pandas\n",
    "\n",
    "# Get our geemaps map set up\n",
    "burgundy_map = geemap.Map(center = ( 47.02882844813948, 4.948176654205355), zoom = 11, layer_ctrl = True, data_ctrl = False, add_google_map = False)"
   ]
  },
  {
   "attachments": {},
   "cell_type": "markdown",
   "metadata": {},
   "source": [
    "Let's grab our data. We'll start with Landsat-9 and move on to Sentinel-2"
   ]
  },
  {
   "cell_type": "code",
   "execution_count": 2,
   "metadata": {},
   "outputs": [],
   "source": [
    "clip_area = ee.Geometry.Polygon([[[4.647364477,46.9062950917],[5.1135967769,46.9062950917],[5.1135967769,47.1193160686],[4.647364477,47.1193160686],[4.647364477,46.9062950917]]])\n",
    "study_area = ee.Geometry.Point([4.744932, 47.040085])\n",
    "study_date = ('2022-08-01', '2022-08-31')\n",
    "\n",
    "\n",
    "# Get Landsat 9 imagery\n",
    "image_2022 = ee.ImageCollection(\"LANDSAT/LC09/C02/T1_L2\").filterDate(study_date[0], study_date[1]).filterBounds(study_area).sort('CLOUD_COVER').first().clip(clip_area)"
   ]
  },
  {
   "attachments": {},
   "cell_type": "markdown",
   "metadata": {},
   "source": [
    "Let's investigate our photo's metadata to see what we've got after all that filtering and clipping."
   ]
  },
  {
   "cell_type": "code",
   "execution_count": 3,
   "metadata": {},
   "outputs": [
    {
     "name": "stdout",
     "output_type": "stream",
     "text": [
      "The clearest Landsat-9 photo during the 2022 harvest season for our region was taken on \u001b[1m2022-08-07\u001b[0m with a cloud cover of \u001b[1m0.02%\u001b[0m\n"
     ]
    }
   ],
   "source": [
    "props = geemap.image_props(image_2022)\n",
    "landsat_date = props.get(\"IMAGE_DATE\").getInfo()\n",
    "landsat_cloud = (props.get(\"CLOUD_COVER_LAND\").getInfo())\n",
    "\n",
    "print(f'The clearest Landsat-9 photo during the 2022 harvest season for our region was taken on \\033[1m{landsat_date}\\033[0m with a cloud cover of \\033[1m{landsat_cloud}%\\033[0m')"
   ]
  },
  {
   "attachments": {},
   "cell_type": "markdown",
   "metadata": {},
   "source": [
    "August 7th, 2022 should work out well for our analysis since the 2022 harvest in Burgundy began around [August 31st](https://www.burgundy-report.com/category/harvests/vintage-2022/). So we will get a look at the vines just a couple weeks before harvest! And on a day with very low cloud coverage!\n",
    "\n",
    "The weeks prior to harvest are some of the most stressful for a winemaker. Too little or too much of rain, humidity, sunlight, or soil nutrients can dramatically impact the final quality of the wine by veering the grape from the desired PH and sugar levels. While this may not be a problem for more \"modern\" regions, Burgundy maintains that the role of the vintner in the final product should be minimal and it is their job to simply see through what the terroir has given them.<br>This approach to minimal intervention winemaking makes for more terroir driven wines but leaves the product at the mercy of nature.\n",
    "\n",
    "Having a snapshot into these stressful times should be incredibly interesting!"
   ]
  },
  {
   "attachments": {},
   "cell_type": "markdown",
   "metadata": {},
   "source": [
    "### Landsat 9 Data Scaling\n",
    "\n",
    "All Landsat data needs to be rescaled before any analysis or visualization can occus, you can read more on the topic [here](https://developers.google.com/earth-engine/datasets/catalog/LANDSAT_LC09_C02_T1_L2#bands)."
   ]
  },
  {
   "cell_type": "code",
   "execution_count": 4,
   "metadata": {},
   "outputs": [],
   "source": [
    "def applyScaleFactors(image: ee.Image) -> ee.Image:\n",
    "    opticalBands = image.select('SR_B.').multiply(0.0000275).add(-0.2)\n",
    "    thermalBands = image.select('ST_B.*').multiply(0.00341802).add(149.0)\n",
    "    return image.addBands(opticalBands, None, True).addBands(thermalBands, None, True)\n",
    "\n",
    "# landsat_9_data_2022 = applyScaleFactors(landsat_9_image_2022)\n",
    "landsat_8_data_2022 = applyScaleFactors(image_2022)"
   ]
  },
  {
   "attachments": {},
   "cell_type": "markdown",
   "metadata": {},
   "source": [
    "Let's save the Landsat visualization parameters for our different layers in dicts so we can visualize them more programatically."
   ]
  },
  {
   "cell_type": "code",
   "execution_count": 5,
   "metadata": {},
   "outputs": [],
   "source": [
    "landsat_nat = {\n",
    "    'name': 'Natural Color (4,3,2)',\n",
    "    'properties': {\n",
    "        'bands': ['SR_B4', 'SR_B3', 'SR_B2'],\n",
    "        'min': 0.0,\n",
    "        'max': 0.3,\n",
    "    }\n",
    "}\n",
    "\n",
    "landsat_IR = {\n",
    "    'name': 'False Color (5,4,3)',\n",
    "    'properties': {\n",
    "        'bands': ['SR_B5', 'SR_B4', 'SR_B3'],\n",
    "        'min': 0.0,\n",
    "        'max': 0.5\n",
    "    }\n",
    "}\n",
    "\n",
    "landsat_veg = {\n",
    "    'name': 'Vegatation Visualization (6,5,4)',\n",
    "    'properties': {\n",
    "        'bands': ['SR_B6', 'SR_B5', 'SR_B4'],\n",
    "        'min': 0.0,\n",
    "        'max': 0.7\n",
    "    }\n",
    "}\n",
    "\n",
    "vis_ndvi = {\n",
    "    'name': 'NDVI',\n",
    "    'properties': {\n",
    "        'min': -0.2,\n",
    "        'max': 1.0,\n",
    "        'palette': [\n",
    "            'FFFFFF',\n",
    "            'CE7E45',\n",
    "            'DF923D',\n",
    "            'F1B555',\n",
    "            'FCD163',\n",
    "            '99B718',\n",
    "            '74A901',\n",
    "            '66A000',\n",
    "            '529400',\n",
    "            '3E8601',\n",
    "            '207401',\n",
    "            '056201',\n",
    "            '004C00',\n",
    "            '023B01',\n",
    "            '012E01',\n",
    "            '011D01',\n",
    "            '011301',\n",
    "        ]\n",
    "    }\n",
    "}\n",
    "\n",
    "# Color scheme \"borrowed\" from https://custom-scripts.sentinel-hub.com/custom-scripts/sentinel-2/ndvi/\n",
    "ndvi_legend = {\n",
    "    'keys' : ['NDVI < -0.2', '-.2 < NDVI ≤ 0', '0 < NDVI ≤ .1', '.1 < NDVI ≤ .2', '.2 < NDVI ≤ .3', '.3 < NDVI ≤ .4', '.4 < NDVI ≤ .5', '.5 < NDVI ≤ .6', '.6 < NDVI ≤ .7', '.7 < NDVI ≤ .8', '.8 < NDVI ≤ .9']\n",
    "}"
   ]
  },
  {
   "attachments": {},
   "cell_type": "markdown",
   "metadata": {},
   "source": [
    "### Initial Visualization \n",
    "\n",
    "Alright that was a lot.\n",
    "\n",
    "Let's put that all on a map so we can see what we've been doing so far.<br>We'll put a natural color and an infrared layer to more easily visualize the greenery of the region. We'll call on our previously assigned visualization parameters to tell geemap how to draw the layers.\n",
    "\n",
    "Feel free to play around with the layers using the tool on the right hand side of the map."
   ]
  },
  {
   "cell_type": "code",
   "execution_count": 6,
   "metadata": {},
   "outputs": [
    {
     "data": {
      "application/vnd.jupyter.widget-view+json": {
       "model_id": "e5757dbad53e450bbb6aec0fae8393b7",
       "version_major": 2,
       "version_minor": 0
      },
      "text/plain": [
       "Map(center=[47.02882844813948, 4.948176654205355], controls=(ZoomControl(options=['position', 'zoom_in_text', …"
      ]
     },
     "metadata": {},
     "output_type": "display_data"
    }
   ],
   "source": [
    "burgundy_map.add_ee_layer(\n",
    "    ee_object = landsat_8_data_2022,\n",
    "    vis_params = landsat_IR['properties'],\n",
    "    name = f'2022 {landsat_IR[\"name\"]}'\n",
    ")\n",
    "burgundy_map.add_ee_layer(\n",
    "    ee_object = landsat_8_data_2022,\n",
    "    vis_params = landsat_nat['properties'],\n",
    "    name = f'2022 {landsat_nat[\"name\"]}'\n",
    ")\n",
    "\n",
    "burgundy_map"
   ]
  },
  {
   "attachments": {},
   "cell_type": "markdown",
   "metadata": {},
   "source": [
    "### That looks pretty good!\n",
    "\n",
    "With Landsat 9's 30m resolution we can clearly see the city of Beaune with the sprawling vineyards and forests to the east.\n",
    "This will be the first harvest that Landsat 9 imagery can be used for analysis since its launch on September 27 2021.\n",
    "\n",
    "In our false color layer, we can see the large red patch to the right of the image is the [Forêt domaniale de Citeaux](https://www.onf.fr/vivre-la-foret/forets-de-france/%2B/19b6::foret-domaniale-de-citeaux.html?lang=fr) which is an oak forest producing staves for many of the oak barrels used for aging wines throughout the region. This is why you can see the plot like structure of the forest in both of our layers. Interestingly, only in the false color composite you can distinguish which plots are more mature, and likely to be harvested next whereas in the natural color you can only distinguish larger segmentation of the forest.<br>Try flicking between the layers to see! A fun example of the practicality of remote sensing.\n",
    "\n",
    "If you need spatial reference, you can unselect all our added layers to see an Open Street Map base layer."
   ]
  },
  {
   "attachments": {},
   "cell_type": "markdown",
   "metadata": {},
   "source": [
    "### NDVI Calculation & Visualization\n",
    "\n",
    "Ndvi has [long been used](https://spinoff.nasa.gov/spinoff2003/er_2.html) in vineyards to generalize vine health.\n",
    "\n",
    "Farmers use it to monitor crops and decide when is the optimal time to pick the fruit.\n",
    "\n",
    "The calculation for NDVI is fairly straight forward and involves finding the difference between the near-infrared and red bands of our image.\n",
    "$$\n",
    "    NDVI = \\frac{(NIR - Red)}{(NIR + Red)}\\\n",
    "$$\n",
    "\n",
    "Let's calculate the NDVI of our Landsat-9 image using the appropriate bands."
   ]
  },
  {
   "cell_type": "code",
   "execution_count": 7,
   "metadata": {},
   "outputs": [],
   "source": [
    "landsat_NIR = image_2022.select('SR_B5')\n",
    "landsat_red = image_2022.select('SR_B4')\n",
    "\n",
    "# This is the line that computes NDVI\n",
    "landsat_ndvi = landsat_NIR.subtract(landsat_red).divide(landsat_NIR.add(landsat_red)).rename('Landsat NDVI')"
   ]
  },
  {
   "attachments": {},
   "cell_type": "markdown",
   "metadata": {},
   "source": [
    "Let's visualize our NDVI layer.<br>All previous layers are still available to play around with."
   ]
  },
  {
   "cell_type": "code",
   "execution_count": 8,
   "metadata": {},
   "outputs": [
    {
     "data": {
      "application/vnd.jupyter.widget-view+json": {
       "model_id": "e5757dbad53e450bbb6aec0fae8393b7",
       "version_major": 2,
       "version_minor": 0
      },
      "text/plain": [
       "Map(center=[47.02882844813948, 4.948176654205355], controls=(ZoomControl(options=['position', 'zoom_in_text', …"
      ]
     },
     "metadata": {},
     "output_type": "display_data"
    }
   ],
   "source": [
    "burgundy_map.add_ee_layer(\n",
    "    ee_object = landsat_ndvi,\n",
    "    name = 'Landsat NDVI',\n",
    "    vis_params = vis_ndvi['properties']\n",
    ")\n",
    "burgundy_map.add_colorbar_branca(\n",
    "    colors = vis_ndvi['properties']['palette'],\n",
    "    vmin = vis_ndvi['properties']['min'],\n",
    "    vmax = vis_ndvi['properties']['max'],\n",
    "    layer_name = 'Landsat NDVI',\n",
    ")\n",
    "burgundy_map"
   ]
  },
  {
   "attachments": {},
   "cell_type": "markdown",
   "metadata": {},
   "source": [
    "Awesome, we've got our NDVI, and visualization layers overlapping to get a better understanding of the region of Beaune at harvest time."
   ]
  },
  {
   "attachments": {},
   "cell_type": "markdown",
   "metadata": {},
   "source": [
    "### What about Sentinel Imagery?\n",
    "\n",
    "That's all very interesting and the Landsat project is awesome however, [this study](https://www.mdpi.com/2077-0472/11/5/457#) found that *\"In medium-resolution imagery, Sentinel-2 excels in use over others, due to the ability to reveal spatial variability that can be used on a regional scale.\"*.<br>\n",
    "So let's see what the same NDVI calculation will give us with Sentinel-2 data.<br>\n",
    "I will repeat much of the same workflow as for the Landsat image."
   ]
  },
  {
   "cell_type": "code",
   "execution_count": 9,
   "metadata": {},
   "outputs": [],
   "source": [
    "sentinel_2022 = ee.ImageCollection(\"COPERNICUS/S2_SR_HARMONIZED\")\\\n",
    "    .filterDate(study_date[0], study_date[1])\\\n",
    "    .filterBounds(study_area)\\\n",
    "    .sort('HIGH_PROBA_CLOUDS_PERCENTAGE')\\\n",
    "    .first()\\\n",
    "    .clip(clip_area)\n",
    "\n",
    "# Have to divide sentinel bands by 10000, similar to Landsat scalling.\n",
    "# Note this is only for bands 1-12 and breaks all others but that is all we will use for this so a blanket divide works fine.\n",
    "sentinel_2022_data = sentinel_2022.divide(10000)"
   ]
  },
  {
   "attachments": {},
   "cell_type": "markdown",
   "metadata": {},
   "source": [
    "Again let's see what the best photo of the same 2022 harvest period was to come out of the Copernicus Sentinel-2 mission."
   ]
  },
  {
   "cell_type": "code",
   "execution_count": 10,
   "metadata": {},
   "outputs": [
    {
     "name": "stdout",
     "output_type": "stream",
     "text": [
      "The clearest Sentinel photo during the 2022 harvest season for our region was taken on \u001b[1m2022-08-10\u001b[0m with a cloud cover of \u001b[1m0.0%\u001b[0m\n"
     ]
    }
   ],
   "source": [
    "props2 = geemap.image_props(sentinel_2022)\n",
    "sentinel_date = props2.get(\"IMAGE_DATE\").getInfo()\n",
    "sentinel_cloud = round(props2.get(\"CLOUDY_PIXEL_PERCENTAGE\").getInfo(), 2)\n",
    "\n",
    "print(f'The clearest Sentinel photo during the 2022 harvest season for our region was taken on \\033[1m{sentinel_date}\\033[0m with a cloud cover of \\033[1m{sentinel_cloud}%\\033[0m')"
   ]
  },
  {
   "attachments": {},
   "cell_type": "markdown",
   "metadata": {},
   "source": [
    "Wow, the best Sentinel photo for the study time period was just 3 days after our Landsat one with no clouds!<br>\n",
    "\n",
    "Let's visualize it.\n",
    "\n",
    "Sentinel uses different band combinations and different syntax for the name of their bands, so we'll create new visualization parameters."
   ]
  },
  {
   "cell_type": "code",
   "execution_count": 11,
   "metadata": {},
   "outputs": [],
   "source": [
    "sentinel_nat = {\n",
    "    'name': 'Natural Color (4,3,2)',\n",
    "    'properties': {\n",
    "        'bands': ['B4', 'B3', 'B2'],\n",
    "        'min': 0.0,\n",
    "        'max': 0.3,\n",
    "    }\n",
    "}\n",
    "\n",
    "sentinel_IR = {\n",
    "    'name': 'False Color (8,4,3)',\n",
    "    'properties': {\n",
    "        'bands': ['B8', 'B4', 'B3'],\n",
    "        'min': 0.0,\n",
    "        'max': 0.5,\n",
    "    }\n",
    "}\n"
   ]
  },
  {
   "cell_type": "code",
   "execution_count": 12,
   "metadata": {},
   "outputs": [
    {
     "data": {
      "application/vnd.jupyter.widget-view+json": {
       "model_id": "ec26f05da7314256951e14aebbc38f2c",
       "version_major": 2,
       "version_minor": 0
      },
      "text/plain": [
       "Map(center=[47.02882844813948, 4.948176654205355], controls=(ZoomControl(options=['position', 'zoom_in_text', …"
      ]
     },
     "metadata": {},
     "output_type": "display_data"
    }
   ],
   "source": [
    "sentinel_map = geemap.Map(center = ( 47.02882844813948, 4.948176654205355), zoom = 11, layer_ctrl = True, data_ctrl = False, add_google_map = False)\n",
    "\n",
    "sentinel_map.add_ee_layer(\n",
    "    ee_object = sentinel_2022_data,\n",
    "    vis_params = sentinel_nat['properties'],\n",
    "    name = sentinel_nat['name'],\n",
    ")\n",
    "\n",
    "sentinel_map.add_ee_layer(\n",
    "    ee_object = sentinel_2022_data,\n",
    "    vis_params = sentinel_IR['properties'],\n",
    "    name = sentinel_IR['name']\n",
    ")\n",
    "\n",
    "sentinel_map"
   ]
  },
  {
   "attachments": {},
   "cell_type": "markdown",
   "metadata": {},
   "source": [
    "I mean that is awesome isn't it?! Sentinel-2 offers 10m resolution on the bands we used for visualizing our layers and while it is not going to get us into individual rows of vines it sure looks great.\n",
    "\n",
    "Now let's do that NDVI calculation again being careful to select the correct Sentinel-2 bands for the job."
   ]
  },
  {
   "cell_type": "code",
   "execution_count": 13,
   "metadata": {},
   "outputs": [],
   "source": [
    "sentinel_NIR = sentinel_2022_data.select('B8')\n",
    "sentinel_red = sentinel_2022_data.select('B4')\n",
    "\n",
    "sentinel_ndvi = sentinel_NIR.subtract(sentinel_red).divide(sentinel_NIR.add(sentinel_red)).rename('Sentinel NDVI')"
   ]
  },
  {
   "attachments": {},
   "cell_type": "markdown",
   "metadata": {},
   "source": [
    "### Let's get a side by side of our NDVI's using both satellites.\n",
    "\n",
    "While this split function doesn't work fully as intended and is a [known bug](https://github.com/gee-community/geemap/issues/1483), dragging the map around still has the intended effect and is visually striking so we'll use it regardless.\n",
    "\n",
    "Remember we are using the same visualization parameters for both images "
   ]
  },
  {
   "cell_type": "code",
   "execution_count": 14,
   "metadata": {},
   "outputs": [],
   "source": [
    "# Create tile layers for split map\n",
    "landsat_layer = geemap.ee_tile_layer(\n",
    "    landsat_ndvi, vis_params=vis_ndvi['properties'], name='Landsat NDVI')\n",
    "sentinel_layer = geemap.ee_tile_layer(\n",
    "    sentinel_ndvi, vis_params=vis_ndvi['properties'], name='Sentinel NDVI')\n",
    "\n",
    "# Initialize split map\n",
    "split = geemap.Map(center=(47.02882844813948, 4.948176654205355),\n",
    "                   zoom=11, layer_ctrl=True, data_ctrl=False, add_google_map=False)\n",
    "\n",
    "# Add data to aplit map  \n",
    "split.split_map(left_layer = landsat_layer,\n",
    "                right_layer = sentinel_layer,\n",
    "                left_label = f\"<center>Landsat 9 NDVI<br>{landsat_date}</center>\",\n",
    "                right_label = f\"<center>Sentinel-2 NDVI<br>{sentinel_date}</center>\",)\n",
    "split.add_colorbar_branca(\n",
    "    colors = vis_ndvi['properties']['palette'],\n",
    "    vmin = vis_ndvi['properties']['min'],\n",
    "    vmax = vis_ndvi['properties']['max'],\n",
    ")\n"
   ]
  },
  {
   "cell_type": "code",
   "execution_count": 15,
   "metadata": {},
   "outputs": [
    {
     "data": {
      "application/vnd.jupyter.widget-view+json": {
       "model_id": "a67b89fcce2149c780f30c5593bea652",
       "version_major": 2,
       "version_minor": 0
      },
      "text/plain": [
       "Map(center=[47.02882844813948, 4.948176654205355], controls=(ZoomControl(options=['position', 'zoom_in_text', …"
      ]
     },
     "metadata": {},
     "output_type": "display_data"
    }
   ],
   "source": [
    "# Visualize it\n",
    "split"
   ]
  },
  {
   "attachments": {},
   "cell_type": "markdown",
   "metadata": {},
   "source": [
    "This concludes the visualization portion of the project."
   ]
  },
  {
   "attachments": {},
   "cell_type": "markdown",
   "metadata": {},
   "source": [
    "## Correlation of NDVI to Vintage Scores"
   ]
  },
  {
   "attachments": {},
   "cell_type": "markdown",
   "metadata": {},
   "source": [
    "My next curiosity is to see how the NDVI changes year over year.<br>Vintages in the wine world are the year in which the wine was grown and are incredibly deterministic to the wine's quality thanks to the notion of [terroir](https://winefolly.com/tips/terroir-definition-for-wine/).\n",
    "\n",
    "Thanks to our preliminary investigation into the freely available remote sensing tools, we will continue this analysis using Sentinel-2 imagery.\n",
    "\n",
    "#### The workflow\n",
    "\n",
    "\n",
    "1.      Declare a list of years to iterate over (Sentinel-2 only went up in 2015 so that's our starting point).\n",
    "2.      Declare an empty dictionary to catch the best image for the harvest season of each year.\n",
    "3.      Fetch the Sentinel-2 Image Collection.\n",
    "4.      Filter the date of the Image Collection by the year being iterated over.\n",
    "5.      Filter the geographic bounds to our study area around Beaune.\n",
    "6.      Sort the Collection by lowest cloud coverage.\n",
    "7.      Select the first element of the collection (image with least clouds within our timeframe).\n",
    "8.      Clip resulting image to study area.\n",
    "9.      Calculate NDVI on the image.\n",
    "10.      Add our NDVI image to our map for visualization.\n",
    "11.      Update our Dictionary with the structure {'year' : NDVI image}."
   ]
  },
  {
   "attachments": {},
   "cell_type": "markdown",
   "metadata": {},
   "source": [
    "Unfortunately, most of our *legitimate* analysis will have to end here. We do not have enough of a sample size to realistically conclude a corelation between NDVI and [wine scores](https://www.winespectator.com/vintage-charts/region/burgundy-cotes-de-beaune-reds) in the region since Google Earth Engine only has Sentinel-2 imagery from 2017 and the vintage ratings for Beaune only go up to 2020 (2021 is still in barrels).\n",
    "\n",
    "While this 3 year window is not enough to properly analyze, it sure is enough to armchair analyze.\n",
    "\n",
    "Let's throw some reviews on to each NDVI layer and you can decide for yourself whether you think NDVI affects the vintage scores."
   ]
  },
  {
   "cell_type": "code",
   "execution_count": 16,
   "metadata": {},
   "outputs": [],
   "source": [
    "scores = [(2017, 93, 'A good crop following the previous vintage’s frost; fruity, balanced and charming red.'),\n",
    "          (2018, 92, 'Fresh, fruity reds, with immediate appeal; success in lesser-known appellations.'),\n",
    "          (2019, 95, 'Best year since 2015 in the Côte de Beaune, with ripe, focused black fruit flavors, fine structure and freshness.'),\n",
    "          (2020, 94, 'Early harvest of big, powerful reds; the best rival 2019 and 2016, with immediate appeal in the less famous areas.')]\n",
    "wine_scores = pandas.DataFrame(scores, columns=['year', 'score', 'description'])"
   ]
  },
  {
   "cell_type": "code",
   "execution_count": 17,
   "metadata": {},
   "outputs": [
    {
     "data": {
      "application/vnd.jupyter.widget-view+json": {
       "model_id": "5061269e0fe2440bab6cbb1fb0ee1c9e",
       "version_major": 2,
       "version_minor": 0
      },
      "text/plain": [
       "  0%|          | 0/6 [00:00<?, ?it/s]"
      ]
     },
     "metadata": {},
     "output_type": "display_data"
    },
    {
     "name": "stdout",
     "output_type": "stream",
     "text": [
      "Cloud coverage for the best photo from August 2017 was 5.67%\n",
      "Cloud coverage for the best photo from August 2018 was 21.99%\n",
      "Cloud coverage for the best photo from August 2019 was 1.66%\n",
      "Cloud coverage for the best photo from August 2020 was 0.03%\n",
      "Cloud coverage for the best photo from August 2021 was 5.12%\n",
      "Cloud coverage for the best photo from August 2022 was 0.0%\n"
     ]
    }
   ],
   "source": [
    "from tqdm.autonotebook import tqdm\n",
    "\n",
    "years = [2017, 2018, 2019, 2020, 2021, 2022]\n",
    "images = {}\n",
    "ndvi_map = geemap.Map( center = (47.02882844813948, 4.948176654205355) , zoom = 11, layer_ctrl = True, add_google_map = False)\n",
    "\n",
    "for year in tqdm(years):\n",
    "\n",
    "    # Get image\n",
    "    image = ee.ImageCollection(\"COPERNICUS/S2_SR_HARMONIZED\")\\\n",
    "        .filterDate(f'{str(year)}{study_date[0][4:]}', f'{str(year)}{study_date[1][4:]}')\\\n",
    "        .filterBounds(study_area)\\\n",
    "        .sort('HIGH_PROBA_CLOUDS_PERCENTAGE')\\\n",
    "        .first()\\\n",
    "        .clip(clip_area)\\\n",
    "\n",
    "    image_data = image.divide(10000)\n",
    "\n",
    "    # Calculate NDVI\n",
    "    NIR = image_data.select('B8')\n",
    "    red = image_data.select('B4')\n",
    "    ndvi = NIR.subtract(red).divide(NIR.add(red))\n",
    "\n",
    "    # Calculate the mean NDVI over the entire region\n",
    "    mean_ndvi = ndvi.reduceRegion(\n",
    "        reducer=ee.Reducer.mean(),\n",
    "        geometry=clip_area,\n",
    "        scale=10,\n",
    "        maxPixels=1e9\n",
    "    )\n",
    "    mean_final = mean_ndvi.get(\"B8\").getInfo()\n",
    "\n",
    "    # Add the NDVI as a layer to our NDVI map\n",
    "    image_info = geemap.image_props(image)\n",
    "    date = image_info.get(\"IMAGE_DATE\").getInfo()\n",
    "    ndvi_map.add_ee_layer(\n",
    "        ee_object = ndvi,\n",
    "        vis_params = vis_ndvi['properties'],\n",
    "        name = f'{date} - Mean NDVI: {round(mean_final, 2)}'\n",
    "    )\n",
    "    \n",
    "    # Let's make sure cloud coverage is acceptable\n",
    "    # Note this is a value of the entire image, not just our clipped region so in reality it's not too bad\n",
    "    print(f'Cloud coverage for the best photo from August {year} was {round(image_info.get(\"CLOUD_COVERAGE_ASSESSMENT\").getInfo(), 2)}%')\n",
    "\n",
    "\n",
    "    # Save the data in the dictionary\n",
    "    images[str(year)] = {'mean ndvi': mean_final,\n",
    "                        'image': ndvi}\n"
   ]
  },
  {
   "attachments": {},
   "cell_type": "markdown",
   "metadata": {},
   "source": [
    "Whew that was a lot of processing, luckily Google Earth Engine handles it all [server side](https://www.sciencedirect.com/science/article/pii/S0034425717302900) (free of charge for academic purposes!) so our machines aren't at risk here.\n",
    "\n",
    "Let's see all the work that was done. Feel free to play around again with the layers to see how NDVI changed in the region from 2017 - 2022.<br>Most striking to me is the difference between 2020 and 2021, try turning all other layers off and flicking between them. One problem is our acceptable time range for a good photo is quite large "
   ]
  },
  {
   "cell_type": "code",
   "execution_count": 18,
   "metadata": {},
   "outputs": [
    {
     "data": {
      "application/vnd.jupyter.widget-view+json": {
       "model_id": "12934f47b57a419c86b52c8680607f0e",
       "version_major": 2,
       "version_minor": 0
      },
      "text/plain": [
       "Map(center=[47.02882844813948, 4.948176654205355], controls=(WidgetControl(options=['position', 'transparent_b…"
      ]
     },
     "metadata": {},
     "output_type": "display_data"
    }
   ],
   "source": [
    "ndvi_map.add_colorbar_branca(\n",
    "    colors = vis_ndvi['properties']['palette'],\n",
    "    vmin = vis_ndvi['properties']['min'],\n",
    "    vmax = vis_ndvi['properties']['max'],\n",
    "    position = \"bottomright\"\n",
    ")\n",
    "ndvi_map"
   ]
  },
  {
   "attachments": {},
   "cell_type": "markdown",
   "metadata": {},
   "source": [
    "### That's all folks\n",
    "\n",
    "Thanks for getting to the end of my little investigation into programatic remote sensing and learning more about Landsat-9 and Sentinel-2 imagery!<br>\n",
    "I hope you learned something and got to play around with the visuals a bit!"
   ]
  }
 ],
 "metadata": {
  "kernelspec": {
   "display_name": "base",
   "language": "python",
   "name": "python3"
  },
  "language_info": {
   "codemirror_mode": {
    "name": "ipython",
    "version": 3
   },
   "file_extension": ".py",
   "mimetype": "text/x-python",
   "name": "python",
   "nbconvert_exporter": "python",
   "pygments_lexer": "ipython3",
   "version": "3.9.13"
  },
  "orig_nbformat": 4
 },
 "nbformat": 4,
 "nbformat_minor": 2
}
