{
 "cells": [
  {
   "cell_type": "code",
   "execution_count": 1,
   "metadata": {},
   "outputs": [],
   "source": [
    "# !pip install ee\n",
    "# !pip install geemap"
   ]
  },
  {
   "cell_type": "code",
   "execution_count": 2,
   "metadata": {},
   "outputs": [],
   "source": [
    "import ee\n",
    "import geemap"
   ]
  },
  {
   "cell_type": "code",
   "execution_count": 3,
   "metadata": {},
   "outputs": [],
   "source": [
    "# Initialize both geemap and Google Earth Engine\n",
    "Map = geemap.Map()\n",
    "ee.Initialize()\n",
    "\n",
    "# Get polygon of Montreal to clip future datasets to\n",
    "GAUL = ee.FeatureCollection(\"FAO/GAUL/2015/level2\")\n",
    "montreal = GAUL.filter(ee.Filter.eq('ADM2_NAME', 'Montréal'))\n",
    "\n",
    "# Get the Landsat 9 Imagery\n",
    "landsat = ee.ImageCollection(\"LANDSAT/LC09/C02/T1_L2\")\n",
    "\n",
    "# use Median on the ImageCollection to view a generalized image\n",
    "median = landsat.median()"
   ]
  },
  {
   "cell_type": "code",
   "execution_count": 4,
   "metadata": {},
   "outputs": [],
   "source": [
    "# Need to rescale since they compress the data to save memory, to compute we need to rescale\n",
    "\n",
    "def applyScaleFactors(image: ee.Image):\n",
    "    opticalBands = image.select('SR_B.').multiply(0.0000275).add(-0.2)\n",
    "    thermalBands = image.select('ST_B.*').multiply(0.00341802).add(149.0)\n",
    "    return image.addBands(opticalBands, None, True).addBands(thermalBands, None, True)\n",
    "    "
   ]
  },
  {
   "cell_type": "code",
   "execution_count": 5,
   "metadata": {},
   "outputs": [],
   "source": [
    "data = applyScaleFactors(median)\n",
    "dataset = data.clipToCollection(montreal)"
   ]
  },
  {
   "cell_type": "code",
   "execution_count": 6,
   "metadata": {},
   "outputs": [],
   "source": [
    "# Landsat 9 natural images visualization parameters\n",
    "vis_natural = {\n",
    "    # Select the bands to display\n",
    "    'bands': ['SR_B4', 'SR_B3', 'SR_B2'],\n",
    "    'min': 0.0,\n",
    "    'max': 0.4,\n",
    "}\n",
    "\n",
    "# Landsat 9 NIR images visualization parameters\n",
    "vis_nir = {\n",
    "    # Select the bands to display\n",
    "    'bands': ['SR_B5', 'SR_B4', 'SR_B3'],\n",
    "    'min': 0.0,\n",
    "    'max': 0.5,\n",
    "}"
   ]
  },
  {
   "cell_type": "code",
   "execution_count": 7,
   "metadata": {},
   "outputs": [],
   "source": [
    "\n",
    "left_layer = geemap.ee_tile_layer(dataset, vis_natural, 'Landsat9 Natural (432)')\n",
    "right_layer = geemap.ee_tile_layer(dataset, vis_nir, 'Landsat9 NIR (543)')"
   ]
  },
  {
   "cell_type": "code",
   "execution_count": 11,
   "metadata": {},
   "outputs": [],
   "source": [
    "Map.split_map(left_layer = left_layer,\n",
    "              right_layer = right_layer,\n",
    "              left_label = 'Landsat 9 Natural Color (432)',\n",
    "              right_label = 'Landsat 9 Infrared Color (543)',\n",
    "            )\n"
   ]
  },
  {
   "cell_type": "code",
   "execution_count": 14,
   "metadata": {},
   "outputs": [
    {
     "data": {
      "application/vnd.jupyter.widget-view+json": {
       "model_id": "8d4b6fd64b0541d7aad7260d60a9839e",
       "version_major": 2,
       "version_minor": 0
      },
      "text/plain": [
       "Map(bottom=47334.0, center=[45.22461173085722, -72.54684448242189], controls=(ZoomControl(options=['position',…"
      ]
     },
     "metadata": {},
     "output_type": "display_data"
    }
   ],
   "source": [
    "Map"
   ]
  },
  {
   "cell_type": "code",
   "execution_count": 13,
   "metadata": {},
   "outputs": [
    {
     "data": {
      "text/html": [
       "<table style='border: 1.5px solid;'>\n",
       "  <tr>\n",
       "     <td style='text-align: center; font-weight: bold; font-size: 1.2em; border: 1px solid;' colspan='6'>Sun Apr 02 17:07:52 2023 Eastern Daylight Time</td>\n",
       "  </tr>\n",
       "  <tr>\n",
       "    <td style='text-align: right; border: 1px solid;'>OS</td>\n",
       "    <td style='text-align: left; border: 1px solid;'>Windows</td>\n",
       "    <td style='text-align: right; border: 1px solid;'>CPU(s)</td>\n",
       "    <td style='text-align: left; border: 1px solid;'>8</td>\n",
       "    <td style='text-align: right; border: 1px solid;'>Machine</td>\n",
       "    <td style='text-align: left; border: 1px solid;'>AMD64</td>\n",
       "  </tr>\n",
       "  <tr>\n",
       "    <td style='text-align: right; border: 1px solid;'>Architecture</td>\n",
       "    <td style='text-align: left; border: 1px solid;'>64bit</td>\n",
       "    <td style='text-align: right; border: 1px solid;'>RAM</td>\n",
       "    <td style='text-align: left; border: 1px solid;'>16.0 GiB</td>\n",
       "    <td style='text-align: right; border: 1px solid;'>Environment</td>\n",
       "    <td style='text-align: left; border: 1px solid;'>Jupyter</td>\n",
       "  </tr>\n",
       "  <tr>\n",
       "     <td style='text-align: center; border: 1px solid;' colspan='6'>Python 3.9.13 (main, Aug 25 2022, 23:51:50) [MSC v.1916 64 bit (AMD64)]</td>\n",
       "  </tr>\n",
       "  <tr>\n",
       "    <td style='text-align: right; border: 1px solid;'>geemap</td>\n",
       "    <td style='text-align: left; border: 1px solid;'>0.20.4</td>\n",
       "    <td style='text-align: right; border: 1px solid;'>ee</td>\n",
       "    <td style='text-align: left; border: 1px solid;'>0.1.347</td>\n",
       "    <td style='text-align: right; border: 1px solid;'>ipyleaflet</td>\n",
       "    <td style='text-align: left; border: 1px solid;'>0.17.2</td>\n",
       "  </tr>\n",
       "  <tr>\n",
       "    <td style='text-align: right; border: 1px solid;'>folium</td>\n",
       "    <td style='text-align: left; border: 1px solid;'>0.14.0</td>\n",
       "    <td style='text-align: right; border: 1px solid;'>jupyterlab</td>\n",
       "    <td style='text-align: left; border: 1px solid;'>3.4.4</td>\n",
       "    <td style='text-align: right; border: 1px solid;'>notebook</td>\n",
       "    <td style='text-align: left; border: 1px solid;'>6.4.12</td>\n",
       "  </tr>\n",
       "  <tr>\n",
       "    <td style='text-align: right; border: 1px solid;'>ipyevents</td>\n",
       "    <td style='text-align: left; border: 1px solid;'>2.0.1</td>\n",
       "    <td style='text-align: right; border: 1px solid;'>geopandas</td>\n",
       "    <td style='text-align: left; border: 1px solid;'>0.12.2</td>\n",
       "    <td style= border: 1px solid;'></td>\n",
       "    <td style= border: 1px solid;'></td>\n",
       "  </tr>\n",
       "  <tr>\n",
       "     <td style='text-align: center; border: 1px solid;' colspan='6'>Intel(R) oneAPI Math Kernel Library Version 2021.4-Product Build 20210904 for Intel(R) 64 architecture applications</td>\n",
       "  </tr>\n",
       "</table>"
      ],
      "text/plain": [
       "\n",
       "--------------------------------------------------------------------------------\n",
       "  Date: Sun Apr 02 17:07:52 2023 Eastern Daylight Time\n",
       "\n",
       "                OS : Windows\n",
       "            CPU(s) : 8\n",
       "           Machine : AMD64\n",
       "      Architecture : 64bit\n",
       "               RAM : 16.0 GiB\n",
       "       Environment : Jupyter\n",
       "\n",
       "  Python 3.9.13 (main, Aug 25 2022, 23:51:50) [MSC v.1916 64 bit (AMD64)]\n",
       "\n",
       "            geemap : 0.20.4\n",
       "                ee : 0.1.347\n",
       "        ipyleaflet : 0.17.2\n",
       "            folium : 0.14.0\n",
       "        jupyterlab : 3.4.4\n",
       "          notebook : 6.4.12\n",
       "         ipyevents : 2.0.1\n",
       "         geopandas : 0.12.2\n",
       "\n",
       "  Intel(R) oneAPI Math Kernel Library Version 2021.4-Product Build 20210904\n",
       "  for Intel(R) 64 architecture applications\n",
       "--------------------------------------------------------------------------------"
      ]
     },
     "execution_count": 13,
     "metadata": {},
     "output_type": "execute_result"
    }
   ],
   "source": [
    "geemap.Report()"
   ]
  }
 ],
 "metadata": {
  "kernelspec": {
   "display_name": "base",
   "language": "python",
   "name": "python3"
  },
  "language_info": {
   "codemirror_mode": {
    "name": "ipython",
    "version": 3
   },
   "file_extension": ".py",
   "mimetype": "text/x-python",
   "name": "python",
   "nbconvert_exporter": "python",
   "pygments_lexer": "ipython3",
   "version": "3.9.13"
  },
  "orig_nbformat": 4
 },
 "nbformat": 4,
 "nbformat_minor": 2
}
